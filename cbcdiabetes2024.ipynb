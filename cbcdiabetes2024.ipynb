{
  "nbformat": 4,
  "nbformat_minor": 0,
  "metadata": {
    "colab": {
      "provenance": [],
      "authorship_tag": "ABX9TyMgXcOXRz9Gk4qxEaiMxnAO",
      "include_colab_link": true
    },
    "kernelspec": {
      "name": "python3",
      "display_name": "Python 3"
    },
    "language_info": {
      "name": "python"
    }
  },
  "cells": [
    {
      "cell_type": "markdown",
      "metadata": {
        "id": "view-in-github",
        "colab_type": "text"
      },
      "source": [
        "<a href=\"https://colab.research.google.com/github/olabisiojo/pfx/blob/main/cbcdiabetes2024.ipynb\" target=\"_parent\"><img src=\"https://colab.research.google.com/assets/colab-badge.svg\" alt=\"Open In Colab\"/></a>"
      ]
    },
    {
      "cell_type": "code",
      "execution_count": null,
      "metadata": {
        "id": "W26BzS7agYXs"
      },
      "outputs": [],
      "source": [
        "import pandas as pd\n",
        "\n",
        "# Load the dataset\n",
        "url = 'https://github.com/olabisiojo/pfx/raw/main/bcDiabetes2024.csv'\n",
        "df = pd.read_csv(url)\n",
        "\n",
        "# Display the first few rows of the dataframe\n",
        "print(\"Initial DataFrame:\")\n",
        "print(df.head())\n",
        "\n",
        "# Handle missing values\n",
        "# Replace '?' with NaN\n",
        "df.replace('?', pd.NA, inplace=True)\n",
        "\n",
        "# Drop columns with more than 50% missing values\n",
        "threshold = len(df) * 0.5\n",
        "df.dropna(thresh=threshold, axis=1, inplace=True)\n",
        "\n",
        "# Fill remaining missing values with appropriate strategies\n",
        "# For numerical columns, fill with the median\n",
        "num_cols = df.select_dtypes(include=['number']).columns\n",
        "df[num_cols] = df[num_cols].fillna(df[num_cols].median())\n",
        "\n",
        "# For categorical columns, fill with the mode\n",
        "cat_cols = df.select_dtypes(include=['object']).columns\n",
        "df[cat_cols] = df[cat_cols].fillna(df[cat_cols].mode().iloc[0])\n",
        "\n",
        "# Remove duplicates\n",
        "df.drop_duplicates(inplace=True)\n",
        "\n",
        "# Standardize data types\n",
        "# Convert columns to appropriate data types\n",
        "df['encounter_id'] = df['encounter_id'].astype(int)\n",
        "df['patient_nbr'] = df['patient_nbr'].astype(int)\n",
        "df['age'] = df['age'].astype('category')\n",
        "df['gender'] = df['gender'].astype('category')\n",
        "df['race'] = df['race'].astype('category')\n",
        "df['admission_type_id'] = df['admission_type_id'].astype(int)\n",
        "df['discharge_disposition_id'] = df['discharge_disposition_id'].astype(int)\n",
        "df['admission_source_id'] = df['admission_source_id'].astype(int)\n",
        "df['time_in_hospital'] = df['time_in_hospital'].astype(int)\n",
        "df['readmitted'] = df['readmitted'].astype('category')\n",
        "\n",
        "# Convert medication columns to categorical\n",
        "medication_cols = ['metformin', 'repaglinide', 'nateglinide', 'chlorpropamide', 'glimepiride', 'acetohexamide',\n",
        "                   'glipizide', 'glyburide', 'tolbutamide', 'pioglitazone', 'rosiglitazone', 'acarbose', 'miglitol',\n",
        "                   'troglitazone', 'tolazamide', 'examide', 'citoglipton', 'insulin', 'glyburidemetformin',\n",
        "                   'glipizidemetformin', 'glimepiridepioglitazone', 'metforminrosiglitazone', 'metforminpioglitazone']\n",
        "df[medication_cols] = df[medication_cols].astype('category')\n",
        "\n",
        "# Convert 'change' and 'diabetesmed' to categorical\n",
        "df['change'] = df['change'].astype('category')\n",
        "df['diabetesmed'] = df['diabetesmed'].astype('category')\n",
        "\n",
        "# Convert 'a1cresult_num' to numeric\n",
        "df['a1cresult_num'] = pd.to_numeric(df['a1cresult_num'], errors='coerce')\n",
        "\n",
        "# Display the cleaned DataFrame\n",
        "print(\"Cleaned DataFrame:\")\n",
        "print(df.head())\n",
        "\n",
        "# Save the cleaned data to a new CSV file\n",
        "df.to_csv('cleaned_bcDiabetes2024.csv', index=False)\n",
        "\n",
        "# Save (download) the cleaned data to a new CSV file to computer\n",
        "from google.colab import files\n",
        "files.download('cleaned_bcDiabetes2024.csv')"
      ]
    }
  ]
}